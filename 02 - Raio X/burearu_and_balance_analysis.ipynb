{
 "cells": [
  {
   "cell_type": "code",
   "execution_count": 1,
   "id": "f4d06b1a",
   "metadata": {},
   "outputs": [],
   "source": [
    "import pandas as pd\n",
    "import support_functions as sf\n",
    "import seaborn as sns\n",
    "\n",
    "\n",
    "from pyspark.sql import SparkSession\n",
    "from pyspark.sql.functions import col, when, round\n",
    "import findspark\n",
    "import matplotlib.pyplot as plt\n",
    "\n",
    "\n",
    "sf.set_environ()\n",
    "pd.set_option('display.max_columns', None,'display.max_rows', None)\n",
    "findspark.init()\n",
    "spark = SparkSession.builder.master(\"local[*]\").getOrCreate()"
   ]
  },
  {
   "cell_type": "code",
   "execution_count": 2,
   "id": "5c95badb",
   "metadata": {},
   "outputs": [
    {
     "name": "stdout",
     "output_type": "stream",
     "text": [
      "(1716428, 17)\n"
     ]
    }
   ],
   "source": [
    "# Bureau.csv\n",
    "spk_abt_00=spark.read.csv(r\"C:\\Users\\vinic\\OneDrive\\BigData & Analytics\\hacktown\\pod-academy-analise-de-credito-para-fintech\\bureau.csv\",header=True)\n",
    "spk_abt_00.createOrReplaceTempView('spk_abt_00')\n",
    "print((spk_abt_00.count(), len(spk_abt_00.columns)))\n"
   ]
  },
  {
   "cell_type": "code",
   "execution_count": 3,
   "id": "1be61832",
   "metadata": {},
   "outputs": [
    {
     "name": "stdout",
     "output_type": "stream",
     "text": [
      "             nome_variavel    tipo  qt_nulos  percent_nulos  cardinalidade  \\\n",
      "0              AMT_ANNUITY  object   1226791          71.47          40321   \n",
      "1   AMT_CREDIT_MAX_OVERDUE  object   1124488          65.51          68251   \n",
      "2        DAYS_ENDDATE_FACT  object    633653          36.92           2917   \n",
      "3     AMT_CREDIT_SUM_LIMIT  object    591780          34.48          51726   \n",
      "4      AMT_CREDIT_SUM_DEBT  object    257669          15.01         226537   \n",
      "5      DAYS_CREDIT_ENDDATE  object    105553           6.15          14096   \n",
      "6            CREDIT_ACTIVE  object         0           0.00              4   \n",
      "7          CREDIT_CURRENCY  object         0           0.00              4   \n",
      "8              DAYS_CREDIT  object         0           0.00           2923   \n",
      "9       CREDIT_DAY_OVERDUE  object         0           0.00            942   \n",
      "10            SK_ID_BUREAU  object         0           0.00        1716428   \n",
      "11      CNT_CREDIT_PROLONG  object         0           0.00             10   \n",
      "12          AMT_CREDIT_SUM  object        13           0.00         236708   \n",
      "13  AMT_CREDIT_SUM_OVERDUE  object         0           0.00           1616   \n",
      "14             CREDIT_TYPE  object         0           0.00             15   \n",
      "15      DAYS_CREDIT_UPDATE  object         0           0.00           2982   \n",
      "16              SK_ID_CURR  object         0           0.00         305811   \n",
      "\n",
      "    percet_cardinalidade  \n",
      "0                   2.35  \n",
      "1                   3.98  \n",
      "2                   0.17  \n",
      "3                   3.01  \n",
      "4                  13.20  \n",
      "5                   0.82  \n",
      "6                   0.00  \n",
      "7                   0.00  \n",
      "8                   0.17  \n",
      "9                   0.05  \n",
      "10                100.00  \n",
      "11                  0.00  \n",
      "12                 13.79  \n",
      "13                  0.09  \n",
      "14                  0.00  \n",
      "15                  0.17  \n",
      "16                 17.82  \n"
     ]
    }
   ],
   "source": [
    "pd_abt_00=spk_abt_00.toPandas()\n",
    "metadata_abt_00=sf.generate_metadata(pd_abt_00)\n",
    "print(metadata_abt_00)"
   ]
  },
  {
   "cell_type": "code",
   "execution_count": 6,
   "id": "8c39687d",
   "metadata": {},
   "outputs": [
    {
     "name": "stdout",
     "output_type": "stream",
     "text": [
      "(27299925, 3)\n"
     ]
    }
   ],
   "source": [
    "#Bureau_balance\n",
    "spk_abt_01=spark.read.csv(r\"C:\\Users\\vinic\\OneDrive\\BigData & Analytics\\hacktown\\pod-academy-analise-de-credito-para-fintech\\bureau_balance.csv\",header=True)\n",
    "spk_abt_01.createOrReplaceTempView('spk_abt_01')\n",
    "print((spk_abt_01.count(), len(spk_abt_01.columns)))"
   ]
  },
  {
   "cell_type": "code",
   "execution_count": 9,
   "id": "5fbb356f",
   "metadata": {},
   "outputs": [
    {
     "name": "stdout",
     "output_type": "stream",
     "text": [
      "    nome_variavel    tipo  qt_nulos  percent_nulos  cardinalidade  \\\n",
      "0    SK_ID_BUREAU   int64         0            0.0         817395   \n",
      "1  MONTHS_BALANCE   int64         0            0.0             97   \n",
      "2          STATUS  object         0            0.0              8   \n",
      "\n",
      "   percet_cardinalidade  \n",
      "0                  2.99  \n",
      "1                  0.00  \n",
      "2                  0.00  \n"
     ]
    }
   ],
   "source": [
    "pd_abt_01=pd.read_csv(r\"C:\\Users\\vinic\\OneDrive\\BigData & Analytics\\hacktown\\pod-academy-analise-de-credito-para-fintech\\bureau_balance.csv\")\n",
    "metadata_abt_01=sf.generate_metadata(pd_abt_01)\n",
    "print(metadata_abt_01)"
   ]
  },
  {
   "cell_type": "code",
   "execution_count": 19,
   "id": "3e403173",
   "metadata": {},
   "outputs": [],
   "source": [
    "# Média de atraso em dias separados por bucket\n",
    "spk_abt_02 = spark.sql(\"\"\"select \n",
    "                        AVG(CASE WHEN CREDIT_DAY_OVERDUE<=180 then CREDIT_DAY_OVERDUE else NULL end) as MEAN_DAY_OVERDUE_0_180,\n",
    "                        AVG(CASE WHEN CREDIT_DAY_OVERDUE>180 and CREDIT_DAY_OVERDUE<=360 then CREDIT_DAY_OVERDUE else NULL end) as MEAN_DAY_OVERDUE_180_360,\n",
    "                        AVG(CASE WHEN CREDIT_DAY_OVERDUE>360 and CREDIT_DAY_OVERDUE<=720 then CREDIT_DAY_OVERDUE else NULL end) as MEAN_DAY_OVERDUE_360_720,\n",
    "                        AVG(CASE WHEN CREDIT_DAY_OVERDUE>720  then CREDIT_DAY_OVERDUE else NULL end) as MEAN_DAY_OVERDUE_720_plus\n",
    "                        \n",
    "                        from spk_abt_00\"\"\")\n",
    "spk_abt_02.createOrReplaceTempView('spk_abt_02')"
   ]
  },
  {
   "cell_type": "code",
   "execution_count": 20,
   "id": "e1eac27a",
   "metadata": {
    "scrolled": true
   },
   "outputs": [
    {
     "name": "stdout",
     "output_type": "stream",
     "text": [
      "+----------------------+------------------------+------------------------+-------------------------+\n",
      "|MEAN_DAY_OVERDUE_0_180|MEAN_DAY_OVERDUE_180_360|MEAN_DAY_OVERDUE_360_720|MEAN_DAY_OVERDUE_720_plus|\n",
      "+----------------------+------------------------+------------------------+-------------------------+\n",
      "|   0.07148145211874188|      255.34848484848484|       571.1444444444444|       1724.6822289156626|\n",
      "+----------------------+------------------------+------------------------+-------------------------+\n",
      "\n"
     ]
    }
   ],
   "source": [
    "spk_abt_02.show()"
   ]
  },
  {
   "cell_type": "code",
   "execution_count": 21,
   "id": "8af4030c",
   "metadata": {},
   "outputs": [],
   "source": [
    "pd_abt_02=spk_abt_02.toPandas()\n"
   ]
  },
  {
   "cell_type": "code",
   "execution_count": 41,
   "id": "642b90fb",
   "metadata": {
    "scrolled": true
   },
   "outputs": [
    {
     "data": {
      "text/plain": [
       "(array([0, 1, 2, 3]),\n",
       " [Text(0, 0, 'MEAN_DAY_OVERDUE_0_180'),\n",
       "  Text(1, 0, 'MEAN_DAY_OVERDUE_180_360'),\n",
       "  Text(2, 0, 'MEAN_DAY_OVERDUE_360_720'),\n",
       "  Text(3, 0, 'MEAN_DAY_OVERDUE_720_plus')])"
      ]
     },
     "execution_count": 41,
     "metadata": {},
     "output_type": "execute_result"
    },
    {
     "data": {
      "image/png": "[encoded data removed]",
      "text/plain": [
       "<Figure size 640x480 with 1 Axes>"
      ]
     },
     "metadata": {},
     "output_type": "display_data"
    }
   ],
   "source": [
    "sns.barplot(data=pd_abt_02)\n",
    "plt.xticks(rotation=45)"
   ]
  },
  {
   "cell_type": "code",
   "execution_count": 39,
   "id": "c3384ea2",
   "metadata": {},
   "outputs": [
    {
     "name": "stdout",
     "output_type": "stream",
     "text": [
      "+-------------+------------------+-----------+\n",
      "|CREDIT_ACTIVE|QTD_UNIQUE_CLIENTS|QTD_CREDITS|\n",
      "+-------------+------------------+-----------+\n",
      "|     Bad debt|                21|         21|\n",
      "|         Sold|              6021|       6527|\n",
      "|       Active|            251815|     630607|\n",
      "|       Closed|            267925|    1079273|\n",
      "+-------------+------------------+-----------+\n",
      "\n"
     ]
    }
   ],
   "source": [
    "#Numero de clientes distintos de acordo com os o status do crédito \n",
    "spk_abt_03=spark.sql(\"\"\"\n",
    "SELECT CREDIT_ACTIVE,\n",
    "COUNT(DISTINCT(SK_ID_CURR)) as QTD_UNIQUE_CLIENTS,\n",
    "COUNT(SK_ID_CURR) as QTD_CREDITS\n",
    "from spk_abt_00\n",
    "group by CREDIT_ACTIVE  \n",
    "\"\"\")\n",
    "spk_abt_03.createOrReplaceTempView('spk_abt_03')\n",
    "spk_abt_03.show()"
   ]
  },
  {
   "cell_type": "code",
   "execution_count": 35,
   "id": "91c0e382",
   "metadata": {
    "scrolled": true
   },
   "outputs": [
    {
     "name": "stdout",
     "output_type": "stream",
     "text": [
      "+----------+----------------+--------------+------------------+----------------+\n",
      "|SK_ID_CURR|QT_CREDIT_ACTIVE|QT_CREDIT_SOLD|QT_CREDIT_BAD_DEBT|QT_CREDIT_CLOSED|\n",
      "+----------+----------------+--------------+------------------+----------------+\n",
      "|    370925|               0|             0|                 0|               1|\n",
      "|    233505|               4|             0|                 0|               0|\n",
      "|    146433|               1|             0|                 0|               5|\n",
      "|    297765|               3|             0|                 0|               0|\n",
      "|    106090|               1|             0|                 0|               0|\n",
      "|    291034|               1|             0|                 0|               3|\n",
      "|    362212|               1|             0|                 0|               3|\n",
      "|    424856|               1|             0|                 0|               7|\n",
      "|    142039|               0|             0|                 0|               1|\n",
      "|    416451|               1|             0|                 0|               2|\n",
      "|    352959|               6|             0|                 0|              12|\n",
      "|    234035|               3|             0|                 0|               3|\n",
      "|    100320|               3|             0|                 0|               3|\n",
      "|    153814|               2|             0|                 0|               0|\n",
      "|    146827|               1|             0|                 0|               3|\n",
      "|    129041|               1|             0|                 0|              12|\n",
      "|    431323|               1|             0|                 0|               1|\n",
      "|    402445|               4|             0|                 0|               2|\n",
      "|    339710|               0|             0|                 0|               2|\n",
      "|    321579|               2|             0|                 0|               8|\n",
      "+----------+----------------+--------------+------------------+----------------+\n",
      "only showing top 20 rows\n",
      "\n"
     ]
    }
   ],
   "source": [
    "#Numero de clientes distintos de acordo com os o status do crédito \n",
    "spk_abt_04=spark.sql(\"\"\"\n",
    "SELECT SK_ID_CURR,\n",
    "SUM(CASE WHEN CREDIT_ACTIVE = 'Active' THEN 1 ELSE 0 END) as QT_CREDIT_ACTIVE,\n",
    "SUM(CASE WHEN CREDIT_ACTIVE = 'Sold' THEN 1 ELSE 0 END) as QT_CREDIT_SOLD,\n",
    "SUM(CASE WHEN CREDIT_ACTIVE = 'Bad debt' THEN 1 ELSE 0 END) as QT_CREDIT_BAD_DEBT,\n",
    "SUM(CASE WHEN CREDIT_ACTIVE = 'Closed' THEN 1 ELSE 0 END) as QT_CREDIT_CLOSED\n",
    "from spk_abt_00\n",
    "group by SK_ID_CURR  \n",
    "\"\"\")\n",
    "spk_abt_04.createOrReplaceTempView('spk_abt_03')\n",
    "spk_abt_04.show()"
   ]
  },
  {
   "cell_type": "code",
   "execution_count": 40,
   "id": "3b848fcb",
   "metadata": {},
   "outputs": [
    {
     "name": "stdout",
     "output_type": "stream",
     "text": [
      "+--------------------+------------------+-----------+\n",
      "|         CREDIT_TYPE|QTD_UNIQUE_CLIENTS|QTD_CREDITS|\n",
      "+--------------------+------------------+-----------+\n",
      "|Loan for the purc...|                18|         19|\n",
      "|Cash loan (non-ea...|                51|         56|\n",
      "|           Microloan|              4565|      12413|\n",
      "|     Consumer credit|            286669|    1251615|\n",
      "|Another type of loan|               962|       1017|\n",
      "|            Mortgage|             16854|      18391|\n",
      "|Loan for working ...|               414|        469|\n",
      "|            Car loan|             22796|      27690|\n",
      "|    Real estate loan|                27|         27|\n",
      "|Unknown type of loan|               497|        555|\n",
      "|Loan for business...|              1599|       1975|\n",
      "|         Credit card|            199965|     402195|\n",
      "|Mobile operator loan|                 1|          1|\n",
      "|Loan for purchase...|                 4|          4|\n",
      "|    Interbank credit|                 1|          1|\n",
      "+--------------------+------------------+-----------+\n",
      "\n"
     ]
    }
   ],
   "source": [
    "#Distribuição do tipo de Crédito\n",
    "spk_abt_05=spark.sql(\"\"\"\n",
    "SELECT CREDIT_TYPE, \n",
    "COUNT(DISTINCT(SK_ID_CURR)) as QTD_UNIQUE_CLIENTS,\n",
    "COUNT(SK_ID_CURR) as QTD_CREDITS\n",
    "from spk_abt_00\n",
    "group by CREDIT_TYPE\n",
    "\"\"\")\n",
    "spk_abt_05.createOrReplaceTempView('spk_abt_05')\n",
    "spk_abt_05.show()"
   ]
  }
 ],
 "metadata": {
  "kernelspec": {
   "display_name": "Python 3 (ipykernel)",
   "language": "python",
   "name": "python3"
  },
  "language_info": {
   "codemirror_mode": {
    "name": "ipython",
    "version": 3
   },
   "file_extension": ".py",
   "mimetype": "text/x-python",
   "name": "python",
   "nbconvert_exporter": "python",
   "pygments_lexer": "ipython3",
   "version": "3.10.9"
  }
 },
 "nbformat": 4,
 "nbformat_minor": 5
}
