{
 "cells": [
  {
   "cell_type": "code",
   "execution_count": 14,
   "id": "76ec2b3f",
   "metadata": {},
   "outputs": [],
   "source": [
    "import pandas as pd\n",
    "import support_functions as sf\n",
    "import seaborn as sns\n",
    "import matplotlib.pyplot as plt"
   ]
  },
  {
   "cell_type": "code",
   "execution_count": 2,
   "id": "cae8a994",
   "metadata": {},
   "outputs": [
    {
     "data": {
      "text/plain": [
       "(215257, 172)"
      ]
     },
     "execution_count": 2,
     "metadata": {},
     "output_type": "execute_result"
    }
   ],
   "source": [
    "#importando application_train\n",
    "df1=pd.read_csv(r\"C:\\Users\\vinic\\OneDrive\\BigData & Analytics\\hacktown\\pod-academy-analise-de-credito-para-fintech\\application_train.csv\")\n",
    "df1.shape\n"
   ]
  },
  {
   "cell_type": "code",
   "execution_count": 3,
   "id": "6a339d35",
   "metadata": {},
   "outputs": [
    {
     "data": {
      "text/plain": [
       "(92254, 171)"
      ]
     },
     "execution_count": 3,
     "metadata": {},
     "output_type": "execute_result"
    }
   ],
   "source": [
    "#importando application_train\n",
    "df2=pd.read_csv(r\"C:\\Users\\vinic\\OneDrive\\BigData & Analytics\\hacktown\\pod-academy-analise-de-credito-para-fintech\\application_test.csv\")\n",
    "df2.shape"
   ]
  },
  {
   "cell_type": "code",
   "execution_count": 5,
   "id": "fd1e0db0",
   "metadata": {},
   "outputs": [
    {
     "data": {
      "text/plain": [
       "{'TARGET'}"
      ]
     },
     "execution_count": 5,
     "metadata": {},
     "output_type": "execute_result"
    }
   ],
   "source": [
    "columns_not_in_df2 = set(df1.columns) - set(df2.columns)\n",
    "columns_not_in_df2"
   ]
  },
  {
   "cell_type": "code",
   "execution_count": 4,
   "id": "5bdf7170",
   "metadata": {},
   "outputs": [
    {
     "data": {
      "text/plain": [
       "(307511, 172)"
      ]
     },
     "execution_count": 4,
     "metadata": {},
     "output_type": "execute_result"
    }
   ],
   "source": [
    "#Concatenando para montar a base completa\n",
    "abt_00 = pd.concat([df1,df2])\n",
    "abt_00.shape"
   ]
  },
  {
   "cell_type": "code",
   "execution_count": 18,
   "id": "11a7bb89",
   "metadata": {
    "scrolled": true
   },
   "outputs": [
    {
     "data": {
      "text/html": [
       "<div>\n",
       "<style scoped>\n",
       "    .dataframe tbody tr th:only-of-type {\n",
       "        vertical-align: middle;\n",
       "    }\n",
       "\n",
       "    .dataframe tbody tr th {\n",
       "        vertical-align: top;\n",
       "    }\n",
       "\n",
       "    .dataframe thead th {\n",
       "        text-align: right;\n",
       "    }\n",
       "</style>\n",
       "<table border=\"1\" class=\"dataframe\">\n",
       "  <thead>\n",
       "    <tr style=\"text-align: right;\">\n",
       "      <th></th>\n",
       "      <th>nome_variavel</th>\n",
       "      <th>tipo</th>\n",
       "      <th>qt_nulos</th>\n",
       "      <th>percent_nulos</th>\n",
       "      <th>cardinalidade</th>\n",
       "      <th>percet_cardinalidade</th>\n",
       "    </tr>\n",
       "  </thead>\n",
       "  <tbody>\n",
       "    <tr>\n",
       "      <th>0</th>\n",
       "      <td>COMMONAREA_MODE</td>\n",
       "      <td>float64</td>\n",
       "      <td>214865</td>\n",
       "      <td>69.87</td>\n",
       "      <td>3128</td>\n",
       "      <td>1.02</td>\n",
       "    </tr>\n",
       "    <tr>\n",
       "      <th>1</th>\n",
       "      <td>COMMONAREA_AVG</td>\n",
       "      <td>float64</td>\n",
       "      <td>214865</td>\n",
       "      <td>69.87</td>\n",
       "      <td>3181</td>\n",
       "      <td>1.03</td>\n",
       "    </tr>\n",
       "    <tr>\n",
       "      <th>2</th>\n",
       "      <td>COMMONAREA_MEDI</td>\n",
       "      <td>float64</td>\n",
       "      <td>214865</td>\n",
       "      <td>69.87</td>\n",
       "      <td>3202</td>\n",
       "      <td>1.04</td>\n",
       "    </tr>\n",
       "    <tr>\n",
       "      <th>3</th>\n",
       "      <td>NONLIVINGAPARTMENTS_AVG</td>\n",
       "      <td>float64</td>\n",
       "      <td>213514</td>\n",
       "      <td>69.43</td>\n",
       "      <td>386</td>\n",
       "      <td>0.13</td>\n",
       "    </tr>\n",
       "    <tr>\n",
       "      <th>4</th>\n",
       "      <td>NONLIVINGAPARTMENTS_MEDI</td>\n",
       "      <td>float64</td>\n",
       "      <td>213514</td>\n",
       "      <td>69.43</td>\n",
       "      <td>214</td>\n",
       "      <td>0.07</td>\n",
       "    </tr>\n",
       "    <tr>\n",
       "      <th>...</th>\n",
       "      <td>...</td>\n",
       "      <td>...</td>\n",
       "      <td>...</td>\n",
       "      <td>...</td>\n",
       "      <td>...</td>\n",
       "      <td>...</td>\n",
       "    </tr>\n",
       "    <tr>\n",
       "      <th>168</th>\n",
       "      <td>REG_CITY_NOT_WORK_CITY</td>\n",
       "      <td>int64</td>\n",
       "      <td>0</td>\n",
       "      <td>0.00</td>\n",
       "      <td>2</td>\n",
       "      <td>0.00</td>\n",
       "    </tr>\n",
       "    <tr>\n",
       "      <th>169</th>\n",
       "      <td>REG_CITY_NOT_LIVE_CITY</td>\n",
       "      <td>int64</td>\n",
       "      <td>0</td>\n",
       "      <td>0.00</td>\n",
       "      <td>2</td>\n",
       "      <td>0.00</td>\n",
       "    </tr>\n",
       "    <tr>\n",
       "      <th>170</th>\n",
       "      <td>LIVE_REGION_NOT_WORK_REGION</td>\n",
       "      <td>int64</td>\n",
       "      <td>0</td>\n",
       "      <td>0.00</td>\n",
       "      <td>2</td>\n",
       "      <td>0.00</td>\n",
       "    </tr>\n",
       "    <tr>\n",
       "      <th>171</th>\n",
       "      <td>REG_REGION_NOT_WORK_REGION</td>\n",
       "      <td>int64</td>\n",
       "      <td>0</td>\n",
       "      <td>0.00</td>\n",
       "      <td>2</td>\n",
       "      <td>0.00</td>\n",
       "    </tr>\n",
       "    <tr>\n",
       "      <th>172</th>\n",
       "      <td>YEARS_BIRTH</td>\n",
       "      <td>float64</td>\n",
       "      <td>0</td>\n",
       "      <td>0.00</td>\n",
       "      <td>49</td>\n",
       "      <td>0.02</td>\n",
       "    </tr>\n",
       "  </tbody>\n",
       "</table>\n",
       "<p>173 rows × 6 columns</p>\n",
       "</div>"
      ],
      "text/plain": [
       "                   nome_variavel     tipo  qt_nulos  percent_nulos  \\\n",
       "0                COMMONAREA_MODE  float64    214865          69.87   \n",
       "1                 COMMONAREA_AVG  float64    214865          69.87   \n",
       "2                COMMONAREA_MEDI  float64    214865          69.87   \n",
       "3        NONLIVINGAPARTMENTS_AVG  float64    213514          69.43   \n",
       "4       NONLIVINGAPARTMENTS_MEDI  float64    213514          69.43   \n",
       "..                           ...      ...       ...            ...   \n",
       "168       REG_CITY_NOT_WORK_CITY    int64         0           0.00   \n",
       "169       REG_CITY_NOT_LIVE_CITY    int64         0           0.00   \n",
       "170  LIVE_REGION_NOT_WORK_REGION    int64         0           0.00   \n",
       "171   REG_REGION_NOT_WORK_REGION    int64         0           0.00   \n",
       "172                  YEARS_BIRTH  float64         0           0.00   \n",
       "\n",
       "     cardinalidade  percet_cardinalidade  \n",
       "0             3128                  1.02  \n",
       "1             3181                  1.03  \n",
       "2             3202                  1.04  \n",
       "3              386                  0.13  \n",
       "4              214                  0.07  \n",
       "..             ...                   ...  \n",
       "168              2                  0.00  \n",
       "169              2                  0.00  \n",
       "170              2                  0.00  \n",
       "171              2                  0.00  \n",
       "172             49                  0.02  \n",
       "\n",
       "[173 rows x 6 columns]"
      ]
     },
     "execution_count": 18,
     "metadata": {},
     "output_type": "execute_result"
    }
   ],
   "source": [
    "# Obserbando os metadados\n",
    "metadata_df=sf.generate_metadata(abt_00)\n",
    "metadata_df"
   ]
  },
  {
   "cell_type": "code",
   "execution_count": 7,
   "id": "0350a6d8",
   "metadata": {},
   "outputs": [],
   "source": [
    "#Calcula a Porcentagem das Variáveis binárias ,incluindo o Target \n",
    "lista_var_bins=list(metadata_df[(metadata_df['cardinalidade'] ==2) & (metadata_df['tipo'] !='object')]['nome_variavel'])\n",
    "pct_bins=abt_00[lista_var_bins].mean()\n"
   ]
  },
  {
   "cell_type": "code",
   "execution_count": 8,
   "id": "5032d893",
   "metadata": {},
   "outputs": [],
   "source": [
    "#Criando as variaveis de idade em anos\n",
    "abt_00['YEARS_BIRTH']=abt_00['DAYS_BIRTH']/365\n",
    "abt_00['YEARS_BIRTH']=-abt_00['YEARS_BIRTH'].round()\n"
   ]
  },
  {
   "cell_type": "code",
   "execution_count": 9,
   "id": "166b284a",
   "metadata": {},
   "outputs": [],
   "source": [
    "#Calcula as metricas de estatisticas descritivas das variaveis numéricas agrupadas pelo Target\n",
    "grp=abt_00.groupby('TARGET')\n",
    "desc=grp.describe()\n",
    "desc.index = ['Adimplente', 'Inadimplente']"
   ]
  },
  {
   "cell_type": "code",
   "execution_count": 34,
   "id": "7870ba2b",
   "metadata": {},
   "outputs": [
    {
     "name": "stdout",
     "output_type": "stream",
     "text": [
      "Taxa de Inadimplência: 8.09%\n",
      "Valor Total na Carteira: R$ 184,207,084,195.50\n",
      "Valor Médio dos Empréstimos: R$ 599,026.00\n",
      "Valor Total dos Empréstimos por categoria:\n",
      "  Adimplente: R$ 119,341,198,282.50 \n",
      "  Inadimplante: R$ 9,704,511,850.50 \n",
      "Valor Médio dos Empréstimos por categoria:\n",
      "  Adimplente: R$ 603,205.53 \n",
      "  Inadimplante: R$ 557,346.19 \n"
     ]
    }
   ],
   "source": [
    "#Taxa de Inadimplncia\n",
    "print(\"Taxa de Inadimplência: {:.2%}\".format(abt_00['TARGET'].mean()))\n",
    "print(\"Valor Total na Carteira: R$ {:2,.2f}\".format(abt_00['AMT_CREDIT'].sum()))\n",
    "\n",
    "#Ticket Médio de Inadimplncia\n",
    "print(\"Valor Médio dos Empréstimos: R$ {:2,.2f}\".format(abt_00['AMT_CREDIT'].mean()))\n",
    "\n",
    "#Valor Total da Carteeira por Categoria\n",
    "print(\"Valor Total dos Empréstimos por categoria:\\n  Adimplente: R$ {:2,.2f} \\n  Inadimplante: R$ {:2,.2f} \".format(abt_00.loc[abt_00['TARGET']==0,'AMT_CREDIT'].sum(),abt_00.loc[abt_00['TARGET']==1,'AMT_CREDIT'].sum()))\n",
    "\n",
    "#Ticket Médio de Inadimplncia\n",
    "print(\"Valor Médio dos Empréstimos por categoria:\\n  Adimplente: R$ {:2,.2f} \\n  Inadimplante: R$ {:2,.2f} \".format(desc[('AMT_CREDIT','mean')][0],desc[('AMT_CREDIT','mean')][1]))"
   ]
  },
  {
   "cell_type": "code",
   "execution_count": 16,
   "id": "b78e0ab7",
   "metadata": {},
   "outputs": [
    {
     "data": {
      "image/png": "[encoded data removed]",
      "text/plain": [
       "<Figure size 640x480 with 1 Axes>"
      ]
     },
     "metadata": {},
     "output_type": "display_data"
    },
    {
     "name": "stdout",
     "output_type": "stream",
     "text": [
      "Média de Idade em anos:\n",
      "                     Adimplente  Inadimplente\n",
      "YEARS_BIRTH mean   44.206803     40.767344\n"
     ]
    }
   ],
   "source": [
    "## Faixa de idade\n",
    "sns.histplot(data=abt_00.loc[abt_00['TARGET']==1],x='YEARS_BIRTH',binwidth=5,\n",
    "             stat='percent',element='poly',fill=False,label='Inadimplente')\n",
    "## Faixa de idade\n",
    "sns.histplot(data=abt_00.loc[abt_00['TARGET']==0],x='YEARS_BIRTH',binwidth=5,\n",
    "             stat='percent',element='poly',fill=False,label='Adimplente')\n",
    "plt.legend()\n",
    "plt.show()\n",
    "#Ticket Médio de Inadimplncia\n",
    "print(\"Média de Idade em anos:\\n  \",desc[[('YEARS_BIRTH','mean')]].T)"
   ]
  }
 ],
 "metadata": {
  "kernelspec": {
   "display_name": "Python 3 (ipykernel)",
   "language": "python",
   "name": "python3"
  },
  "language_info": {
   "codemirror_mode": {
    "name": "ipython",
    "version": 3
   },
   "file_extension": ".py",
   "mimetype": "text/x-python",
   "name": "python",
   "nbconvert_exporter": "python",
   "pygments_lexer": "ipython3",
   "version": "3.10.9"
  }
 },
 "nbformat": 4,
 "nbformat_minor": 5
}
