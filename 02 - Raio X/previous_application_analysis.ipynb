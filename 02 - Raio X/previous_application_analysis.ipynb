{
 "cells": [
  {
   "cell_type": "code",
   "execution_count": 1,
   "id": "66d88720",
   "metadata": {},
   "outputs": [],
   "source": [
    "import pandas as pd\n",
    "import support_functions as sf\n",
    "import seaborn as sns\n",
    "pd.set_option('display.max_columns', None,'display.max_rows', None)"
   ]
  },
  {
   "cell_type": "code",
   "execution_count": 2,
   "id": "0394347c",
   "metadata": {},
   "outputs": [
    {
     "data": {
      "text/plain": [
       "(1670214, 37)"
      ]
     },
     "execution_count": 2,
     "metadata": {},
     "output_type": "execute_result"
    }
   ],
   "source": [
    "abt_00=pd.read_csv(r\"C:\\Users\\vinic\\OneDrive\\BigData & Analytics\\hacktown\\pod-academy-analise-de-credito-para-fintech\\previous_application.csv\")\n",
    "abt_00.shape"
   ]
  },
  {
   "cell_type": "code",
   "execution_count": 3,
   "id": "ab70dc07",
   "metadata": {
    "scrolled": true
   },
   "outputs": [
    {
     "name": "stdout",
     "output_type": "stream",
     "text": [
      "                  nome_variavel     tipo  qt_nulos  percent_nulos  \\\n",
      "0      RATE_INTEREST_PRIVILEGED  float64   1664263          99.64   \n",
      "1         RATE_INTEREST_PRIMARY  float64   1664263          99.64   \n",
      "2             RATE_DOWN_PAYMENT  float64    895844          53.64   \n",
      "3              AMT_DOWN_PAYMENT  float64    895844          53.64   \n",
      "4               NAME_TYPE_SUITE   object    820405          49.12   \n",
      "5     NFLAG_INSURED_ON_APPROVAL  float64    673065          40.30   \n",
      "6            DAYS_FIRST_DRAWING  float64    673065          40.30   \n",
      "7                DAYS_FIRST_DUE  float64    673065          40.30   \n",
      "8     DAYS_LAST_DUE_1ST_VERSION  float64    673065          40.30   \n",
      "9                 DAYS_LAST_DUE  float64    673065          40.30   \n",
      "10             DAYS_TERMINATION  float64    673065          40.30   \n",
      "11              AMT_GOODS_PRICE  float64    385515          23.08   \n",
      "12                  AMT_ANNUITY  float64    372235          22.29   \n",
      "13                  CNT_PAYMENT  float64    372230          22.29   \n",
      "14          PRODUCT_COMBINATION   object       346           0.02   \n",
      "15                 CHANNEL_TYPE   object         0           0.00   \n",
      "16            NAME_PRODUCT_TYPE   object         0           0.00   \n",
      "17             NAME_YIELD_GROUP   object         0           0.00   \n",
      "18             SELLERPLACE_AREA    int64         0           0.00   \n",
      "19         NAME_SELLER_INDUSTRY   object         0           0.00   \n",
      "20          NAME_GOODS_CATEGORY   object         0           0.00   \n",
      "21               NAME_PORTFOLIO   object         0           0.00   \n",
      "22                   SK_ID_PREV    int64         0           0.00   \n",
      "23             NAME_CLIENT_TYPE   object         0           0.00   \n",
      "24           CODE_REJECT_REASON   object         0           0.00   \n",
      "25                   SK_ID_CURR    int64         0           0.00   \n",
      "26                DAYS_DECISION    int64         0           0.00   \n",
      "27         NAME_CONTRACT_STATUS   object         0           0.00   \n",
      "28       NAME_CASH_LOAN_PURPOSE   object         0           0.00   \n",
      "29       NFLAG_LAST_APPL_IN_DAY    int64         0           0.00   \n",
      "30  FLAG_LAST_APPL_PER_CONTRACT   object         0           0.00   \n",
      "31      HOUR_APPR_PROCESS_START    int64         0           0.00   \n",
      "32   WEEKDAY_APPR_PROCESS_START   object         0           0.00   \n",
      "33                   AMT_CREDIT  float64         1           0.00   \n",
      "34              AMT_APPLICATION  float64         0           0.00   \n",
      "35           NAME_CONTRACT_TYPE   object         0           0.00   \n",
      "36            NAME_PAYMENT_TYPE   object         0           0.00   \n",
      "\n",
      "    cardinalidade  percet_cardinalidade  \n",
      "0              25                  0.00  \n",
      "1             148                  0.01  \n",
      "2          207033                 12.40  \n",
      "3           29278                  1.75  \n",
      "4               7                  0.00  \n",
      "5               2                  0.00  \n",
      "6            2838                  0.17  \n",
      "7            2892                  0.17  \n",
      "8            4605                  0.28  \n",
      "9            2873                  0.17  \n",
      "10           2830                  0.17  \n",
      "11          93885                  5.62  \n",
      "12         357959                 21.43  \n",
      "13             49                  0.00  \n",
      "14             17                  0.00  \n",
      "15              8                  0.00  \n",
      "16              3                  0.00  \n",
      "17              5                  0.00  \n",
      "18           2097                  0.13  \n",
      "19             11                  0.00  \n",
      "20             28                  0.00  \n",
      "21              5                  0.00  \n",
      "22        1670214                100.00  \n",
      "23              4                  0.00  \n",
      "24              9                  0.00  \n",
      "25         338857                 20.29  \n",
      "26           2922                  0.17  \n",
      "27              4                  0.00  \n",
      "28             25                  0.00  \n",
      "29              2                  0.00  \n",
      "30              2                  0.00  \n",
      "31             24                  0.00  \n",
      "32              7                  0.00  \n",
      "33          86803                  5.20  \n",
      "34          93885                  5.62  \n",
      "35              4                  0.00  \n",
      "36              4                  0.00  \n"
     ]
    }
   ],
   "source": [
    "# Obserbando os metadados\n",
    "metadata_df=sf.generate_metadata(abt_00)\n",
    "print(metadata_df)\n",
    "lista_var_bins=list(metadata_df[(metadata_df['cardinalidade'] ==2) & (metadata_df['tipo'] !='object')]['nome_variavel'])"
   ]
  },
  {
   "cell_type": "code",
   "execution_count": 4,
   "id": "d8f5ad65",
   "metadata": {},
   "outputs": [
    {
     "data": {
      "text/plain": [
       "1036781"
      ]
     },
     "execution_count": 4,
     "metadata": {},
     "output_type": "execute_result"
    }
   ],
   "source": [
    "#Calulo de porcentagem de contratos aceitas\n",
    "\n",
    "approved_count = (abt_00['NAME_CONTRACT_STATUS'] == 'Approved').sum()\n",
    "approved_count"
   ]
  },
  {
   "cell_type": "code",
   "execution_count": 6,
   "id": "148365e8",
   "metadata": {},
   "outputs": [
    {
     "name": "stdout",
     "output_type": "stream",
     "text": [
      "Taxa de Contratos Aceitos: 62.07%\n"
     ]
    }
   ],
   "source": [
    "print(\"Taxa de Contratos Aceitos: {:.2%}\".format(approved_count/abt_00['SK_ID_PREV'].count()))"
   ]
  },
  {
   "cell_type": "code",
   "execution_count": 9,
   "id": "7fd3692a",
   "metadata": {},
   "outputs": [
    {
     "data": {
      "text/plain": [
       "array(['POS', 'Cash', 'XNA', 'Cards', 'Cars'], dtype=object)"
      ]
     },
     "execution_count": 9,
     "metadata": {},
     "output_type": "execute_result"
    }
   ],
   "source": [
    "abt_00['NAME_PORTFOLIO'].unique()"
   ]
  }
 ],
 "metadata": {
  "kernelspec": {
   "display_name": "Python 3 (ipykernel)",
   "language": "python",
   "name": "python3"
  },
  "language_info": {
   "codemirror_mode": {
    "name": "ipython",
    "version": 3
   },
   "file_extension": ".py",
   "mimetype": "text/x-python",
   "name": "python",
   "nbconvert_exporter": "python",
   "pygments_lexer": "ipython3",
   "version": "3.10.9"
  }
 },
 "nbformat": 4,
 "nbformat_minor": 5
}
